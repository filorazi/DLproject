{
 "cells": [
  {
   "cell_type": "markdown",
   "metadata": {
    "id": "5UWvzgijBQLR"
   },
   "source": [
    "#Utilities"
   ]
  },
  {
   "cell_type": "code",
   "execution_count": null,
   "metadata": {
    "id": "0YnJODzF4GjS"
   },
   "outputs": [],
   "source": [
    "import tensorflow as tf\n",
    "from tensorflow.keras import datasets, layers, models\n",
    "import matplotlib.pyplot as plt\n",
    "from keras.preprocessing import image\n",
    "import pandas as pd\n",
    "import numpy as np\n",
    "import cv2\n",
    "import imageio\n",
    "from PIL import Image\n",
    "from sklearn.utils import class_weight\n",
    "import numpy as np\n",
    "from keras import layers\n",
    "from keras import Input\n",
    "from keras import utils\n"
   ]
  },
  {
   "cell_type": "code",
   "execution_count": null,
   "metadata": {
    "id": "zQQZT8wB4NV8"
   },
   "outputs": [],
   "source": [
    "BATCH_SIZE = 512\n",
    "EPOCHS = 20\n",
    "VALIDATION_SPLIT = 0.3\n",
    "directory_orientation = \"\"\n",
    "directory_light = \"\"\n",
    "img_dim = (64,64)\n"
   ]
  },
  {
   "cell_type": "code",
   "execution_count": null,
   "metadata": {
    "id": "poROb25H-8qe"
   },
   "outputs": [],
   "source": [
    "def get_CNN4_model(input_layer, dropout = 0):\n",
    "  x = layers.Conv2D(8, (5,5), activation=None, padding=\"same\")(input_layer)\n",
    "  x = layers.Activation(\"relu\")(x)\n",
    "  x = layers.Conv2D(16, (5,5), activation=None, padding=\"same\")(x)\n",
    "  x = layers.Activation(\"relu\")(x)\n",
    "  x = layers.Conv2D(32, (5,5), activation=None, padding=\"same\")(x)\n",
    "  x = layers.Activation(\"relu\")(x)\n",
    "  x = layers.MaxPooling2D()(x)\n",
    "  x = layers.Conv2D(64, (5,5), activation=None, padding=\"same\")(x)\n",
    "  x = layers.Activation(\"relu\")(x)\n",
    "  x = layers.MaxPooling2D()(x)\n",
    "  x = layers.Flatten()(x)\n",
    "  x = layers.Dense(1024, activation=\"relu\")(x)\n",
    "  x = layers.Dropout(dropout)(x)\n",
    "  x = layers.Dense(3, activation=\"softmax\")(x)\n",
    "  model = tf.keras.models.Model(inputs=[input_layer], outputs=x)\n",
    "  model.compile(optimizer='adam',\n",
    "                loss=tf.keras.losses.CategoricalCrossentropy(from_logits=True),\n",
    "                metrics=['accuracy'])\n",
    "  return model\n",
    "\n"
   ]
  },
  {
   "cell_type": "markdown",
   "metadata": {
    "id": "voEceMiVBMnv"
   },
   "source": [
    "#Light model training"
   ]
  },
  {
   "cell_type": "code",
   "execution_count": null,
   "metadata": {
    "colab": {
     "base_uri": "https://localhost:8080/"
    },
    "executionInfo": {
     "elapsed": 1491,
     "status": "ok",
     "timestamp": 1612954189345,
     "user": {
      "displayName": "Orazi Filippo",
      "photoUrl": "https://lh3.googleusercontent.com/a-/AOh14Giqm5ggpMHZbFEsO6I8JLdOxxPOes47QwDRVNwn=s64",
      "userId": "10901058600466330130"
     },
     "user_tz": -60
    },
    "id": "Qz3QkhM_5AGF",
    "outputId": "a5124da4-ca6a-49cd-b776-12b4bc5bbdd1"
   },
   "outputs": [],
   "source": [
    "# Preparing the dataset\n",
    "image_generator = image.ImageDataGenerator(rescale = 1. /255, validation_split = VALIDATION_SPLIT, preprocessing_function = None )\n",
    "train_data = image_generator.flow_from_directory(batch_size=BATCH_SIZE, directory = directory_light, subset = \"training\", shuffle = True, target_size = img_dim, class_mode = \"categorical\")\n",
    "validation_data = image_generator.flow_from_directory(batch_size=BATCH_SIZE, directory = directory_light, subset = \"validation\", shuffle = True, target_size = img_dim, class_mode = \"categorical\")\n",
    "tot_train = len(train_data.classes)\n",
    "tot_val = len(validation_data.classes)\n",
    "\n",
    "# Balancing the classes\n",
    "class_weights = class_weight.compute_class_weight(\n",
    "           'balanced',\n",
    "            np.unique(train_data.classes), \n",
    "            train_data.classes)\n",
    "weight = {i : class_weights[i] for i in range(3)}\n",
    "print(weight)\n",
    "\n",
    "\n",
    "# Building the model\n",
    "input_img = Input(shape=(*img_dim, 3), name=\"img\")\n",
    "model_light = get_CNN4_model(input_img, 0.2)\n",
    "model_light.summary()\n",
    "#utils.plot_model(model_light, show_shapes=True)"
   ]
  },
  {
   "cell_type": "code",
   "execution_count": null,
   "metadata": {
    "colab": {
     "base_uri": "https://localhost:8080/"
    },
    "executionInfo": {
     "elapsed": 5830414,
     "status": "ok",
     "timestamp": 1612960020069,
     "user": {
      "displayName": "Orazi Filippo",
      "photoUrl": "https://lh3.googleusercontent.com/a-/AOh14Giqm5ggpMHZbFEsO6I8JLdOxxPOes47QwDRVNwn=s64",
      "userId": "10901058600466330130"
     },
     "user_tz": -60
    },
    "id": "C1RKO8Pp6IEy",
    "outputId": "1e39c1cc-c27f-4fb5-d989-75d948689952"
   },
   "outputs": [],
   "source": [
    "history_light = model_light.fit(train_data, epochs=EPOCHS, class_weight=weight, steps_per_epoch=int(np.ceil(tot_train / BATCH_SIZE)), validation_data=validation_data, validation_steps=int(np.ceil(tot_val / float(BATCH_SIZE)))) "
   ]
  },
  {
   "cell_type": "code",
   "execution_count": null,
   "metadata": {
    "colab": {
     "base_uri": "https://localhost:8080/",
     "height": 475
    },
    "executionInfo": {
     "elapsed": 1616,
     "status": "ok",
     "timestamp": 1612960037495,
     "user": {
      "displayName": "Orazi Filippo",
      "photoUrl": "https://lh3.googleusercontent.com/a-/AOh14Giqm5ggpMHZbFEsO6I8JLdOxxPOes47QwDRVNwn=s64",
      "userId": "10901058600466330130"
     },
     "user_tz": -60
    },
    "id": "-maj_GDoHsF4",
    "outputId": "917b573a-4c9a-4993-c8c3-a99a79982725"
   },
   "outputs": [],
   "source": [
    " f,(ax1,ax2) = plt.subplots(1,2)\n",
    " f.set_figheight(7)\n",
    " f.set_figwidth(14)\n",
    "\n",
    " ax2.step(np.arange(EPOCHS), history_light.history['accuracy'],\"b\")  \n",
    " ax1.step(np.arange(EPOCHS), history_light.history['loss'],\"b\")  \n",
    " ax2.step(np.arange(EPOCHS), history_light.history['val_accuracy'], \"r\")  \n",
    " ax1.step(np.arange(EPOCHS), history_light.history['val_loss'], \"r\") \n",
    " ax2.hlines(1, 0, EPOCHS, colors=\"#CCCCCC\")\n",
    " ax2.hlines(0.75, 0, EPOCHS, colors=\"#CCCCCC\")\n",
    " ax2.hlines(0.5, 0, EPOCHS, colors=\"#CCCCCC\")\n",
    " ax2.hlines(0.25, 0, EPOCHS, colors=\"#CCCCCC\")\n",
    " ax1.hlines(1, 0, EPOCHS, colors=\"#CCCCCC\")\n",
    " ax1.hlines(0.75, 0, EPOCHS, colors=\"#CCCCCC\")\n",
    " ax1.hlines(0.5, 0, EPOCHS, colors=\"#CCCCCC\")\n",
    " ax1.hlines(0.25, 0, EPOCHS, colors=\"#CCCCCC\")\n",
    " ax1.axis([0,EPOCHS-1, 0, 1.2]) \n",
    " ax2.axis([0,EPOCHS-1, 0, 1.2]) \n",
    " ax1.set_title('model loss')  \n",
    " ax2.set_title('model accuracy')  \n",
    " ax2.set_ylabel('accuracy')  \n",
    " ax1.set_ylabel('loss')  \n",
    " ax1.set_xlabel('epoch')\n",
    " ax2.set_xlabel(\"epoch\")  \n",
    " ax1.legend([ 'train_loss', 'val_loss'], loc='best') \n",
    " ax2.legend([ 'train_accuracy', 'val_accuracy'], loc='best') \n"
   ]
  },
  {
   "cell_type": "markdown",
   "metadata": {
    "id": "B5JUYdbLBHXx"
   },
   "source": [
    "#Orientation model training"
   ]
  },
  {
   "cell_type": "code",
   "execution_count": null,
   "metadata": {
    "colab": {
     "base_uri": "https://localhost:8080/",
     "height": 1000
    },
    "executionInfo": {
     "elapsed": 48651,
     "status": "ok",
     "timestamp": 1612960103244,
     "user": {
      "displayName": "Orazi Filippo",
      "photoUrl": "https://lh3.googleusercontent.com/a-/AOh14Giqm5ggpMHZbFEsO6I8JLdOxxPOes47QwDRVNwn=s64",
      "userId": "10901058600466330130"
     },
     "user_tz": -60
    },
    "id": "DnP7KmIw8JrR",
    "outputId": "deb5feb4-ff69-4f05-a48e-9ef99caac2f4"
   },
   "outputs": [],
   "source": [
    "# Preparing the dataset\n",
    "image_generator_orientation = image.ImageDataGenerator(rescale = 1. /255, validation_split = VALIDATION_SPLIT, preprocessing_function = None )\n",
    "train_data_orientation = image_generator.flow_from_directory(batch_size=BATCH_SIZE, directory = directory_orientation, subset = \"training\", shuffle = True, target_size = img_dim, class_mode = \"categorical\")\n",
    "validation_data_orientation = image_generator.flow_from_directory(batch_size=BATCH_SIZE, directory = directory_orientation, subset = \"validation\", shuffle = True, target_size = img_dim, class_mode = \"categorical\")\n",
    "tot_train = len(train_data_orientation.classes)\n",
    "tot_val = len(validation_data_orientation.classes)\n",
    "\n",
    "# Balancing the classes\n",
    "class_weights = class_weight.compute_class_weight(\n",
    "           'balanced',\n",
    "            np.unique(train_data_orientation.classes), \n",
    "            train_data_orientation.classes)\n",
    "weight = {i : class_weights[i] for i in range(3)}\n",
    "print(weight)\n",
    "\n",
    "\n",
    "# Building the model\n",
    "input_img = Input(shape=(*img_dim, 3), name=\"img\")\n",
    "model_orientation = get_CNN4_model(input_img)\n",
    "model_orientation.summary()\n",
    "utils.plot_model(model_orientation, show_layer_names= False)"
   ]
  },
  {
   "cell_type": "code",
   "execution_count": null,
   "metadata": {
    "colab": {
     "base_uri": "https://localhost:8080/"
    },
    "executionInfo": {
     "elapsed": 8465847,
     "status": "ok",
     "timestamp": 1612968569127,
     "user": {
      "displayName": "Orazi Filippo",
      "photoUrl": "https://lh3.googleusercontent.com/a-/AOh14Giqm5ggpMHZbFEsO6I8JLdOxxPOes47QwDRVNwn=s64",
      "userId": "10901058600466330130"
     },
     "user_tz": -60
    },
    "id": "PkajpWfuBEew",
    "outputId": "5cbbcb9a-3ca2-406f-ef51-86e0aeffede6"
   },
   "outputs": [],
   "source": [
    "history_orientation = model_orientation.fit(train_data_orientation, epochs=EPOCHS, class_weight=weight, steps_per_epoch=int(np.ceil(tot_train / BATCH_SIZE)), validation_data=validation_data_orientation, validation_steps=int(np.ceil(tot_val / float(BATCH_SIZE)))) "
   ]
  },
  {
   "cell_type": "code",
   "execution_count": null,
   "metadata": {
    "colab": {
     "base_uri": "https://localhost:8080/"
    },
    "executionInfo": {
     "elapsed": 8466092,
     "status": "ok",
     "timestamp": 1612968569408,
     "user": {
      "displayName": "Orazi Filippo",
      "photoUrl": "https://lh3.googleusercontent.com/a-/AOh14Giqm5ggpMHZbFEsO6I8JLdOxxPOes47QwDRVNwn=s64",
      "userId": "10901058600466330130"
     },
     "user_tz": -60
    },
    "id": "5r_kUlRTBaML",
    "outputId": "83899c87-8aa9-4c2e-ad35-c3d3f60c7ecf"
   },
   "outputs": [],
   "source": [
    " f,(ax1,ax2) = plt.subplots(1,2)\n",
    " f.set_figheight(7)\n",
    " f.set_figwidth(14)\n",
    "\n",
    " ax2.step(np.arange(EPOCHS), history_orientation.history['accuracy'],\"b\")  \n",
    " ax1.step(np.arange(EPOCHS), history_orientation.history['loss'],\"b\")  \n",
    " ax2.step(np.arange(EPOCHS), history_orientation.history['val_accuracy'], \"r\")  \n",
    " ax1.step(np.arange(EPOCHS), history_orientation.history['val_loss'], \"r\") \n",
    " ax2.hlines(1, 0, EPOCHS, colors=\"#CCCCCC\")\n",
    " ax2.hlines(0.75, 0, EPOCHS, colors=\"#CCCCCC\")\n",
    " ax2.hlines(0.5, 0, EPOCHS, colors=\"#CCCCCC\")\n",
    " ax2.hlines(0.25, 0, EPOCHS, colors=\"#CCCCCC\")\n",
    " ax1.hlines(1, 0, EPOCHS, colors=\"#CCCCCC\")\n",
    " ax1.hlines(0.75, 0, EPOCHS, colors=\"#CCCCCC\")\n",
    " ax1.hlines(0.5, 0, EPOCHS, colors=\"#CCCCCC\")\n",
    " ax1.hlines(0.25, 0, EPOCHS, colors=\"#CCCCCC\")\n",
    " ax1.axis([0,EPOCHS-1, 0, 1.2]) \n",
    " ax2.axis([0,EPOCHS-1, 0, 1.2]) \n",
    " ax1.set_title('model loss')  \n",
    " ax2.set_title('model accuracy')  \n",
    " ax2.set_ylabel('accuracy')  \n",
    " ax1.set_ylabel('loss')  \n",
    " ax1.set_xlabel('epoch')\n",
    " ax2.set_xlabel(\"epoch\")  \n",
    " ax1.legend([ 'train_loss', 'val_loss'], loc='best') \n",
    " ax2.legend([ 'train_accuracy', 'val_accuracy'], loc='best') \n"
   ]
  },
  {
   "cell_type": "code",
   "execution_count": null,
   "metadata": {
    "id": "WgZxL1ka6_Qq"
   },
   "outputs": [],
   "source": []
  }
 ],
 "metadata": {
  "colab": {
   "authorship_tag": "ABX9TyOkF9eooaNSLSrS3QXAkSKF",
   "collapsed_sections": [],
   "mount_file_id": "1bqawDKicZlfmwBwDcSDxMajQ2mTJU9K8",
   "name": "CNN4 notebook",
   "provenance": []
  },
  "kernelspec": {
   "display_name": "Python 3",
   "language": "python",
   "name": "python3"
  },
  "language_info": {
   "codemirror_mode": {
    "name": "ipython",
    "version": 3
   },
   "file_extension": ".py",
   "mimetype": "text/x-python",
   "name": "python",
   "nbconvert_exporter": "python",
   "pygments_lexer": "ipython3",
   "version": "3.6.0"
  }
 },
 "nbformat": 4,
 "nbformat_minor": 1
}
