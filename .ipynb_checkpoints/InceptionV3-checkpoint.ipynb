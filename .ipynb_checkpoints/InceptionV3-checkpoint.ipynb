{
 "cells": [
  {
   "cell_type": "markdown",
   "metadata": {
    "id": "t3buCGALXBz0"
   },
   "source": [
    "# Imports"
   ]
  },
  {
   "cell_type": "code",
   "execution_count": null,
   "metadata": {
    "executionInfo": {
     "elapsed": 4244,
     "status": "ok",
     "timestamp": 1612691671916,
     "user": {
      "displayName": "Orazi Filippo",
      "photoUrl": "https://lh3.googleusercontent.com/a-/AOh14Giqm5ggpMHZbFEsO6I8JLdOxxPOes47QwDRVNwn=s64",
      "userId": "10901058600466330130"
     },
     "user_tz": -60
    },
    "id": "NmHGqBk0FLuI"
   },
   "outputs": [],
   "source": [
    "import tensorflow as tf\n",
    "from tensorflow.keras import datasets, layers, models\n",
    "import matplotlib.pyplot as plt\n",
    "from keras.preprocessing import image\n",
    "import pandas as pd\n",
    "import numpy as np\n",
    "import cv2\n",
    "import imageio\n",
    "from PIL import Image\n",
    "from sklearn.utils import class_weight\n",
    "import numpy as np\n",
    "from keras import layers, Input, utils\n",
    "from keras.models import Model"
   ]
  },
  {
   "cell_type": "markdown",
   "metadata": {
    "id": "NYMf9vGqW-cg"
   },
   "source": [
    "# Global variables\n"
   ]
  },
  {
   "cell_type": "code",
   "execution_count": null,
   "metadata": {
    "executionInfo": {
     "elapsed": 4231,
     "status": "ok",
     "timestamp": 1612691671919,
     "user": {
      "displayName": "Orazi Filippo",
      "photoUrl": "https://lh3.googleusercontent.com/a-/AOh14Giqm5ggpMHZbFEsO6I8JLdOxxPOes47QwDRVNwn=s64",
      "userId": "10901058600466330130"
     },
     "user_tz": -60
    },
    "id": "mjwuWKLQGlGk"
   },
   "outputs": [],
   "source": [
    "BATCH_SIZE = 128\n",
    "EPOCHS = 30\n",
    "VALIDATION_SPLIT = 0.3\n",
    "directory = \"\"\n",
    "img_dim = (128,128)\n"
   ]
  },
  {
   "cell_type": "markdown",
   "metadata": {
    "id": "IiMKCjA4Gv37"
   },
   "source": [
    "#Creating train and val set"
   ]
  },
  {
   "cell_type": "code",
   "execution_count": null,
   "metadata": {
    "colab": {
     "base_uri": "https://localhost:8080/"
    },
    "executionInfo": {
     "elapsed": 6065,
     "status": "ok",
     "timestamp": 1612651987849,
     "user": {
      "displayName": "Orazi Filippo",
      "photoUrl": "https://lh3.googleusercontent.com/a-/AOh14Giqm5ggpMHZbFEsO6I8JLdOxxPOes47QwDRVNwn=s64",
      "userId": "10901058600466330130"
     },
     "user_tz": -60
    },
    "id": "cnd7-4cFGoST",
    "outputId": "fab826d1-5e17-4c06-f3a4-f94d22533f2a"
   },
   "outputs": [],
   "source": [
    "image_generator = image.ImageDataGenerator(rescale = 1. /255, validation_split = VALIDATION_SPLIT, preprocessing_function = None )\n",
    "train_data = image_generator.flow_from_directory(batch_size=BATCH_SIZE, \n",
    "                                                 directory = directory, \n",
    "                                                 subset = \"training\", \n",
    "                                                 shuffle = True, \n",
    "                                                 target_size = (128,128), \n",
    "                                                 class_mode = \"categorical\")\n",
    "validation_data = image_generator.flow_from_directory(batch_size=BATCH_SIZE,\n",
    "                                                      directory = directory,\n",
    "                                                      subset = \"validation\",\n",
    "                                                      shuffle = True,\n",
    "                                                      target_size = (128,128),\n",
    "                                                      class_mode = \"categorical\")\n",
    "tot_train = len(train_data.classes)\n",
    "tot_val = len(validation_data.classes)\n",
    "\n",
    "print(train_data.classes)"
   ]
  },
  {
   "cell_type": "markdown",
   "metadata": {
    "id": "LRKnIuNNHBHb"
   },
   "source": [
    "##Classes weights"
   ]
  },
  {
   "cell_type": "code",
   "execution_count": null,
   "metadata": {
    "colab": {
     "base_uri": "https://localhost:8080/",
     "height": 232
    },
    "executionInfo": {
     "elapsed": 1435,
     "status": "error",
     "timestamp": 1612691673368,
     "user": {
      "displayName": "Orazi Filippo",
      "photoUrl": "https://lh3.googleusercontent.com/a-/AOh14Giqm5ggpMHZbFEsO6I8JLdOxxPOes47QwDRVNwn=s64",
      "userId": "10901058600466330130"
     },
     "user_tz": -60
    },
    "id": "gx1pxWjBG7cS",
    "outputId": "8732babc-87e5-43df-ab6d-d51f177a1e5e"
   },
   "outputs": [],
   "source": [
    "class_weights = class_weight.compute_class_weight(\n",
    "           'balanced',\n",
    "            np.unique(train_data.classes), \n",
    "            train_data.classes)\n",
    "weight = {i : class_weights[i] for i in range(3)}\n",
    "print(weight)"
   ]
  },
  {
   "cell_type": "markdown",
   "metadata": {
    "id": "T8P_yA40HfcF"
   },
   "source": [
    "#Model"
   ]
  },
  {
   "cell_type": "code",
   "execution_count": null,
   "metadata": {
    "executionInfo": {
     "elapsed": 813,
     "status": "ok",
     "timestamp": 1612691890002,
     "user": {
      "displayName": "Orazi Filippo",
      "photoUrl": "https://lh3.googleusercontent.com/a-/AOh14Giqm5ggpMHZbFEsO6I8JLdOxxPOes47QwDRVNwn=s64",
      "userId": "10901058600466330130"
     },
     "user_tz": -60
    },
    "id": "Z-phibkPe4Sx"
   },
   "outputs": [],
   "source": [
    "def classification_model(x, input_layer_dim):\n",
    "  dim = input_layer_dim\n",
    "  i = 0\n",
    "  while dim > 3:\n",
    "    x = layers.Dense(dim, activation=\"relu\")(x)\n",
    "    x = layers.Dropout(0.2)(x)\n",
    "    #if i%2 == 0:\n",
    "    #  x = layers.BatchNormalization()(x)\n",
    "    dim /= 4\n",
    "    i-=-1\n",
    "  return layers.Dense(3, activation=\"softmax\")(x)"
   ]
  },
  {
   "cell_type": "code",
   "execution_count": null,
   "metadata": {
    "executionInfo": {
     "elapsed": 838,
     "status": "ok",
     "timestamp": 1612691886751,
     "user": {
      "displayName": "Orazi Filippo",
      "photoUrl": "https://lh3.googleusercontent.com/a-/AOh14Giqm5ggpMHZbFEsO6I8JLdOxxPOes47QwDRVNwn=s64",
      "userId": "10901058600466330130"
     },
     "user_tz": -60
    },
    "id": "WMhj6IzVM7Mc"
   },
   "outputs": [],
   "source": [
    "from keras.applications.inception_v3 import InceptionV3\n",
    "from keras.applications.inception_v3 import preprocess_input\n",
    "from keras.utils import plot_model"
   ]
  },
  {
   "cell_type": "code",
   "execution_count": null,
   "metadata": {
    "colab": {
     "base_uri": "https://localhost:8080/"
    },
    "executionInfo": {
     "elapsed": 8731,
     "status": "ok",
     "timestamp": 1612651990551,
     "user": {
      "displayName": "Orazi Filippo",
      "photoUrl": "https://lh3.googleusercontent.com/a-/AOh14Giqm5ggpMHZbFEsO6I8JLdOxxPOes47QwDRVNwn=s64",
      "userId": "10901058600466330130"
     },
     "user_tz": -60
    },
    "id": "CbDZcFUqNbGG",
    "outputId": "470350f0-4efc-4a93-f228-63996b664185"
   },
   "outputs": [],
   "source": [
    "input_img_shape = Input(shape=(*img_dim, 3), name=\"img\")\n",
    "print(input_img_shape)\n",
    "\n",
    "inception_model = InceptionV3(input_shape = (128,128,3),\n",
    "                               include_top = False, # whether to include the fully-connected layer at the top, as the last layer of the network. Default to True.\n",
    "                               #weights = 'imagenet' #weights from imageNet (default)\n",
    "                               pooling = 'avg', # Optional pooling mode for feature extraction: None (default), avg, max\n",
    "                               #classes = 3 #optional number of classes to classify images into\n",
    "                               ) \n",
    "\n"
   ]
  },
  {
   "cell_type": "code",
   "execution_count": null,
   "metadata": {
    "colab": {
     "base_uri": "https://localhost:8080/",
     "height": 1000
    },
    "executionInfo": {
     "elapsed": 12842,
     "status": "ok",
     "timestamp": 1612651994681,
     "user": {
      "displayName": "Orazi Filippo",
      "photoUrl": "https://lh3.googleusercontent.com/a-/AOh14Giqm5ggpMHZbFEsO6I8JLdOxxPOes47QwDRVNwn=s64",
      "userId": "10901058600466330130"
     },
     "user_tz": -60
    },
    "id": "eEmIRISjekzF",
    "outputId": "0bdeb05f-d56f-45f5-c130-94fee408fa7d"
   },
   "outputs": [],
   "source": [
    "output_x = inception_model.output\n",
    "\n",
    "output_x = classification_model(output_x, output_x.shape[1])\n",
    "\n",
    "final_inception_model = Model(inputs = inception_model.input, outputs = output_x)\n",
    "\n",
    "plot_model(final_inception_model)"
   ]
  },
  {
   "cell_type": "code",
   "execution_count": null,
   "metadata": {
    "colab": {
     "base_uri": "https://localhost:8080/"
    },
    "executionInfo": {
     "elapsed": 35380317,
     "status": "ok",
     "timestamp": 1612687362184,
     "user": {
      "displayName": "Orazi Filippo",
      "photoUrl": "https://lh3.googleusercontent.com/a-/AOh14Giqm5ggpMHZbFEsO6I8JLdOxxPOes47QwDRVNwn=s64",
      "userId": "10901058600466330130"
     },
     "user_tz": -60
    },
    "id": "CxXidVAcYePp",
    "outputId": "cd199854-5767-4b18-afcc-b88ac8154b1d"
   },
   "outputs": [],
   "source": [
    "lr = 0.003\n",
    "\n",
    "final_inception_model.compile(optimizer = 'adam',\n",
    "                        loss = tf.keras.losses.CategoricalCrossentropy(from_logits=True),\n",
    "                        metrics = ['accuracy'])\n",
    "\n",
    "history = final_inception_model.fit(train_data,\n",
    "                              epochs=EPOCHS,\n",
    "                              class_weight=weight, \n",
    "                              steps_per_epoch=tot_train // BATCH_SIZE,\n",
    "                              validation_data=validation_data,\n",
    "                              validation_steps=tot_val // BATCH_SIZE)"
   ]
  },
  {
   "cell_type": "code",
   "execution_count": null,
   "metadata": {
    "colab": {
     "base_uri": "https://localhost:8080/",
     "height": 312
    },
    "executionInfo": {
     "elapsed": 35380719,
     "status": "ok",
     "timestamp": 1612687362595,
     "user": {
      "displayName": "Orazi Filippo",
      "photoUrl": "https://lh3.googleusercontent.com/a-/AOh14Giqm5ggpMHZbFEsO6I8JLdOxxPOes47QwDRVNwn=s64",
      "userId": "10901058600466330130"
     },
     "user_tz": -60
    },
    "id": "o7Pur4KyhtLz",
    "outputId": "80df6631-100d-4219-f88b-ca2e637a9e0d"
   },
   "outputs": [],
   "source": [
    "plt.plot(history.history['accuracy'])  \n",
    "plt.plot(history.history['loss'])  \n",
    "plt.plot(history.history['val_accuracy'])  \n",
    "plt.plot(history.history['val_loss']) \n",
    "plt.hlines(1, 0, EPOCHS)\n",
    "plt.axis([0,EPOCHS-1, 0, 3]) \n",
    "plt.title('model accuracy')  \n",
    "plt.ylabel('accuracy')  \n",
    "plt.xlabel('epoch')  \n",
    "plt.legend(['accuracy', 'loss','val_accuracy', 'val_loss'], loc='best') "
   ]
  },
  {
   "cell_type": "markdown",
   "metadata": {
    "id": "_AwqibyuhvrM"
   },
   "source": [
    "## Save Model\n"
   ]
  },
  {
   "cell_type": "code",
   "execution_count": null,
   "metadata": {
    "colab": {
     "base_uri": "https://localhost:8080/"
    },
    "executionInfo": {
     "elapsed": 35421657,
     "status": "ok",
     "timestamp": 1612687403539,
     "user": {
      "displayName": "Orazi Filippo",
      "photoUrl": "https://lh3.googleusercontent.com/a-/AOh14Giqm5ggpMHZbFEsO6I8JLdOxxPOes47QwDRVNwn=s64",
      "userId": "10901058600466330130"
     },
     "user_tz": -60
    },
    "id": "CZSCHN1qhlBB",
    "outputId": "63a33226-76b8-4ea7-bbca-acc64ffe9bca"
   },
   "outputs": [],
   "source": [
    "import os\n",
    "\n",
    "save_path = \"\"\n",
    "\n",
    "if not os.path.exists(save_path) :\n",
    "  os.makedirs(save_path)\n",
    "\n",
    "final_inception_model.save(save_path)"
   ]
  },
  {
   "cell_type": "markdown",
   "metadata": {
    "id": "tMgWeGkDe7wn"
   },
   "source": [
    "# Orientation\n"
   ]
  },
  {
   "cell_type": "code",
   "execution_count": null,
   "metadata": {
    "executionInfo": {
     "elapsed": 1063,
     "status": "ok",
     "timestamp": 1612691902768,
     "user": {
      "displayName": "Orazi Filippo",
      "photoUrl": "https://lh3.googleusercontent.com/a-/AOh14Giqm5ggpMHZbFEsO6I8JLdOxxPOes47QwDRVNwn=s64",
      "userId": "10901058600466330130"
     },
     "user_tz": -60
    },
    "id": "TRd1NRcKfKLS"
   },
   "outputs": [],
   "source": [
    "directory = \"\""
   ]
  },
  {
   "cell_type": "code",
   "execution_count": null,
   "metadata": {
    "colab": {
     "base_uri": "https://localhost:8080/"
    },
    "executionInfo": {
     "elapsed": 1069,
     "status": "ok",
     "timestamp": 1612691903717,
     "user": {
      "displayName": "Orazi Filippo",
      "photoUrl": "https://lh3.googleusercontent.com/a-/AOh14Giqm5ggpMHZbFEsO6I8JLdOxxPOes47QwDRVNwn=s64",
      "userId": "10901058600466330130"
     },
     "user_tz": -60
    },
    "id": "CkDCJkqEfB0F",
    "outputId": "b67a6760-4c27-43e9-f27f-084a4779b843"
   },
   "outputs": [],
   "source": [
    "image_generator = image.ImageDataGenerator(rescale = 1. /255, validation_split = VALIDATION_SPLIT, preprocessing_function = None )\n",
    "train_data = image_generator.flow_from_directory(batch_size=BATCH_SIZE, \n",
    "                                                 directory = directory, \n",
    "                                                 subset = \"training\", \n",
    "                                                 shuffle = True, \n",
    "                                                 target_size = (128,128), \n",
    "                                                 class_mode = \"categorical\")\n",
    "validation_data = image_generator.flow_from_directory(batch_size=BATCH_SIZE,\n",
    "                                                      directory = directory,\n",
    "                                                      subset = \"validation\",\n",
    "                                                      shuffle = True,\n",
    "                                                      target_size = (128,128),\n",
    "                                                      class_mode = \"categorical\")\n",
    "tot_train = len(train_data.classes)\n",
    "tot_val = len(validation_data.classes)\n",
    "print(train_data.classes)"
   ]
  },
  {
   "cell_type": "code",
   "execution_count": null,
   "metadata": {
    "colab": {
     "base_uri": "https://localhost:8080/"
    },
    "executionInfo": {
     "elapsed": 508,
     "status": "ok",
     "timestamp": 1612691904719,
     "user": {
      "displayName": "Orazi Filippo",
      "photoUrl": "https://lh3.googleusercontent.com/a-/AOh14Giqm5ggpMHZbFEsO6I8JLdOxxPOes47QwDRVNwn=s64",
      "userId": "10901058600466330130"
     },
     "user_tz": -60
    },
    "id": "9BjdtsgF6wVI",
    "outputId": "5f13fb5d-6960-40a9-970f-dd15c86326c0"
   },
   "outputs": [],
   "source": [
    "class_weights = class_weight.compute_class_weight(\n",
    "           'balanced',\n",
    "            np.unique(train_data.classes), \n",
    "            train_data.classes)\n",
    "weight = {i : class_weights[i] for i in range(3)}\n",
    "print(weight)"
   ]
  },
  {
   "cell_type": "code",
   "execution_count": null,
   "metadata": {
    "colab": {
     "base_uri": "https://localhost:8080/"
    },
    "executionInfo": {
     "elapsed": 6905,
     "status": "ok",
     "timestamp": 1612691915442,
     "user": {
      "displayName": "Orazi Filippo",
      "photoUrl": "https://lh3.googleusercontent.com/a-/AOh14Giqm5ggpMHZbFEsO6I8JLdOxxPOes47QwDRVNwn=s64",
      "userId": "10901058600466330130"
     },
     "user_tz": -60
    },
    "id": "fRy-XTLufgH3",
    "outputId": "17bcd1e8-2e17-40e8-a84e-2d1062dd6d7a"
   },
   "outputs": [],
   "source": [
    "inception_model = InceptionV3(input_shape = (128,128,3),\n",
    "                               include_top = False, # whether to include the fully-connected layer at the top, as the last layer of the network. Default to True.\n",
    "                               #weights = 'imagenet' #weights from imageNet (default)\n",
    "                               pooling = 'avg', # Optional pooling mode for feature extraction: None (default), avg, max\n",
    "                               #classes = 3 #optional number of classes to classify images into\n",
    "                               )\n",
    "\n",
    "output_x = inception_model.output\n",
    "\n",
    "output_x = classification_model(output_x, output_x.shape[1])\n",
    "\n",
    "final_inception_model = Model(inputs = inception_model.input, outputs = output_x)"
   ]
  },
  {
   "cell_type": "code",
   "execution_count": null,
   "metadata": {
    "colab": {
     "base_uri": "https://localhost:8080/"
    },
    "id": "pjZpwHF5fpFC",
    "outputId": "a769da21-6937-4fb4-871e-3f7e6524d283"
   },
   "outputs": [],
   "source": [
    "final_inception_model.compile(optimizer = 'adam',\n",
    "                        loss = tf.keras.losses.CategoricalCrossentropy(from_logits=True),\n",
    "                        metrics = ['accuracy'])\n",
    "\n",
    "history = final_inception_model.fit(train_data,\n",
    "                              epochs=EPOCHS,\n",
    "                              class_weight=weight, \n",
    "                              steps_per_epoch=tot_train // BATCH_SIZE,\n",
    "                              validation_data=validation_data,\n",
    "                              validation_steps=tot_val // BATCH_SIZE)"
   ]
  },
  {
   "cell_type": "code",
   "execution_count": null,
   "metadata": {
    "id": "TMdaaQMQfsIi"
   },
   "outputs": [],
   "source": [
    "plt.plot(history.history['accuracy'])  \n",
    "plt.plot(history.history['loss'])  \n",
    "plt.plot(history.history['val_accuracy'])  \n",
    "plt.plot(history.history['val_loss']) \n",
    "plt.hlines(1, 0, EPOCHS)\n",
    "plt.axis([0,EPOCHS-1, 0, 3]) \n",
    "plt.title('model accuracy')  \n",
    "plt.ylabel('accuracy')  \n",
    "plt.xlabel('epoch')  \n",
    "plt.legend(['accuracy', 'loss','val_accuracy', 'val_loss'], loc='best')"
   ]
  },
  {
   "cell_type": "code",
   "execution_count": null,
   "metadata": {
    "id": "f4gwZRlCgqx1"
   },
   "outputs": [],
   "source": [
    "import os\n",
    "\n",
    "save_path = \"\"\n",
    "\n",
    "if not os.path.exists(save_path) :\n",
    "  os.makedirs(save_path)\n",
    "\n",
    "final_inception_model.save(save_path)"
   ]
  }
 ],
 "metadata": {
  "colab": {
   "authorship_tag": "ABX9TyNgjUYUWDKDb5YMqNfIn29k",
   "collapsed_sections": [],
   "mount_file_id": "1y2EtAxlqZmp6swlBsVB8HZaEMtPSlET_",
   "name": "InceptionV3.ipynb",
   "provenance": []
  },
  "kernelspec": {
   "display_name": "Python 3",
   "language": "python",
   "name": "python3"
  },
  "language_info": {
   "codemirror_mode": {
    "name": "ipython",
    "version": 3
   },
   "file_extension": ".py",
   "mimetype": "text/x-python",
   "name": "python",
   "nbconvert_exporter": "python",
   "pygments_lexer": "ipython3",
   "version": "3.6.0"
  }
 },
 "nbformat": 4,
 "nbformat_minor": 1
}
