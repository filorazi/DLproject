{
 "cells": [
  {
   "cell_type": "markdown",
   "metadata": {
    "id": "5UWvzgijBQLR"
   },
   "source": [
    "#Utilities"
   ]
  },
  {
   "cell_type": "code",
   "execution_count": null,
   "metadata": {
    "id": "0YnJODzF4GjS"
   },
   "outputs": [],
   "source": [
    "import tensorflow as tf\n",
    "from tensorflow.keras import datasets, layers, models\n",
    "import matplotlib.pyplot as plt\n",
    "from keras.preprocessing import image\n",
    "import pandas as pd\n",
    "import numpy as np\n",
    "import cv2\n",
    "import imageio\n",
    "from PIL import Image\n",
    "from sklearn.utils import class_weight\n",
    "import numpy as np\n",
    "from keras import layers\n",
    "from keras import Input\n",
    "from keras import utils\n"
   ]
  },
  {
   "cell_type": "code",
   "execution_count": null,
   "metadata": {
    "id": "zQQZT8wB4NV8"
   },
   "outputs": [],
   "source": [
    "BATCH_SIZE = 256\n",
    "EPOCHS = 13\n",
    "VALIDATION_SPLIT = 0.30\n",
    "directory_orientation = \"\"\n",
    "directory_light = \"\"\n",
    "img_dim = (64,64)\n"
   ]
  },
  {
   "cell_type": "code",
   "execution_count": null,
   "metadata": {
    "id": "I9pHeVdcTTha"
   },
   "outputs": [],
   "source": [
    "# Returns a recurrent block model based on residuals networks\n",
    "def recurrent_block(conv_dim, num_channel_input, input_layer):\n",
    "  num_channel = num_channel_input * 2\n",
    "  x = layers.Conv2D(num_channel, conv_dim, strides = 2, activation='relu', padding=\"same\")(input_layer)\n",
    "  x = layers.BatchNormalization()(x)\n",
    "  x = layers.Activation('relu')(x)\n",
    "  x = layers.Conv2D(num_channel, conv_dim, activation='relu', padding=\"same\")(x)\n",
    "  x = layers.BatchNormalization()(x)\n",
    "\n",
    "  y = layers.Conv2D(num_channel, (1,1), strides = 2, activation='relu', padding=\"same\")(input_layer)\n",
    "  y = layers.BatchNormalization()(y)\n",
    "\n",
    "  x = layers.Add()([y,x])\n",
    "  x = layers.Activation('relu')(x)\n",
    "\n",
    "\n",
    "  return x, num_channel\n"
   ]
  },
  {
   "cell_type": "code",
   "execution_count": null,
   "metadata": {
    "id": "SGvGtqpwTgsy"
   },
   "outputs": [],
   "source": [
    "def classification_model(x, input_layer_dim):\n",
    "  dim = input_layer_dim\n",
    "  i = 0\n",
    "  while dim > 3:\n",
    "    dim /= 16\n",
    "    i-=-1\n",
    "  return layers.Dense(3, activation=\"softmax\")(x)"
   ]
  },
  {
   "cell_type": "code",
   "execution_count": null,
   "metadata": {
    "id": "vOidaIM1JEvY"
   },
   "outputs": [],
   "source": [
    "\n",
    "def get_ResidualBlockArchitecture(input_layer, dropout):\n",
    "  x, num_chan = recurrent_block((5,5), (8), input_layer)\n",
    "  x, num_chan = recurrent_block((5,5), (16), x)\n",
    "  x, num_chan = recurrent_block((5,5), (32), x)\n",
    "  x = layers.Flatten()(x)\n",
    "  x = layers.Dense(1024, activation=\"relu\")(x)\n",
    "  x = layers.Dropout(dropout)(x)\n",
    "  x = layers.Dense(3, activation=\"softmax\")(x)\n",
    "  model = None\n",
    "  model = tf.keras.models.Model(inputs=[input_layer], outputs=x)\n",
    "\n",
    "  model.compile(optimizer='adam',\n",
    "                loss=tf.keras.losses.CategoricalCrossentropy(from_logits=True),\n",
    "                metrics=['accuracy'])\n",
    "  return model\n"
   ]
  },
  {
   "cell_type": "markdown",
   "metadata": {
    "id": "voEceMiVBMnv"
   },
   "source": [
    "#Light model training"
   ]
  },
  {
   "cell_type": "code",
   "execution_count": null,
   "metadata": {
    "colab": {
     "base_uri": "https://localhost:8080/"
    },
    "executionInfo": {
     "elapsed": 47419,
     "status": "ok",
     "timestamp": 1613148799625,
     "user": {
      "displayName": "Orazi Filippo",
      "photoUrl": "https://lh3.googleusercontent.com/a-/AOh14Giqm5ggpMHZbFEsO6I8JLdOxxPOes47QwDRVNwn=s64",
      "userId": "10901058600466330130"
     },
     "user_tz": -60
    },
    "id": "Qz3QkhM_5AGF",
    "outputId": "050097f8-8b3b-4ef4-f107-23aa8d7d65c3"
   },
   "outputs": [],
   "source": [
    "# Preparing the dataset\n",
    "image_generator_light = image.ImageDataGenerator(rescale = 1. /255, validation_split = VALIDATION_SPLIT, preprocessing_function = None )\n",
    "train_data_light = image_generator_light.flow_from_directory(batch_size=BATCH_SIZE, directory = directory_light, subset = \"training\", shuffle = True, target_size = img_dim, class_mode = \"categorical\")\n",
    "validation_data_light = image_generator_light.flow_from_directory(batch_size=BATCH_SIZE, directory = directory_light, subset = \"validation\", shuffle = True, target_size = img_dim, class_mode = \"categorical\")\n",
    "tot_train = len(train_data_light.classes)\n",
    "tot_val = len(validation_data_light.classes)\n",
    "\n",
    "# Balancing the classes\n",
    "class_weights = class_weight.compute_class_weight(\n",
    "           'balanced',\n",
    "            np.unique(train_data_light.classes), \n",
    "            train_data_light.classes)\n",
    "weight = {i : class_weights[i] for i in range(3)}\n",
    "print(weight)\n",
    "model_light = None\n",
    "\n",
    "# Building the model\n",
    "input_img = Input(shape=(*img_dim, 3), name=\"img\")\n",
    "model_light = get_ResidualBlockArchitecture(input_img, 0.5)\n",
    "#model_light.summary()\n",
    "#utils.plot_model(model_light, show_shapes=True)"
   ]
  },
  {
   "cell_type": "code",
   "execution_count": null,
   "metadata": {
    "colab": {
     "background_save": true,
     "base_uri": "https://localhost:8080/"
    },
    "id": "C1RKO8Pp6IEy",
    "outputId": "0b210baa-3813-4167-a8d3-b64743d54de9"
   },
   "outputs": [],
   "source": [
    "history_light = model_light.fit(train_data_light, epochs=EPOCHS, class_weight=weight, steps_per_epoch=int(np.ceil(tot_train / BATCH_SIZE)), validation_data=validation_data_light, validation_steps=int(np.ceil(tot_val / float(BATCH_SIZE)))) "
   ]
  },
  {
   "cell_type": "code",
   "execution_count": null,
   "metadata": {
    "colab": {
     "background_save": true
    },
    "id": "-maj_GDoHsF4",
    "outputId": "c120cc76-df48-4cfd-8221-4c4216153d05"
   },
   "outputs": [],
   "source": [
    " f,(ax1,ax2) = plt.subplots(1,2)\n",
    " f.set_figheight(7)\n",
    " f.set_figwidth(14)\n",
    "\n",
    " ax2.step(np.arange(EPOCHS), history_light.history['accuracy'],\"b\")  \n",
    " ax1.step(np.arange(EPOCHS), history_light.history['loss'],\"b\")  \n",
    " ax2.step(np.arange(EPOCHS), history_light.history['val_accuracy'], \"r\")  \n",
    " ax1.step(np.arange(EPOCHS), history_light.history['val_loss'], \"r\") \n",
    " ax2.hlines(1, 0, EPOCHS, colors=\"#CCCCCC\")\n",
    " ax2.hlines(0.75, 0, EPOCHS, colors=\"#CCCCCC\")\n",
    " ax2.hlines(0.5, 0, EPOCHS, colors=\"#CCCCCC\")\n",
    " ax2.hlines(0.25, 0, EPOCHS, colors=\"#CCCCCC\")\n",
    " ax1.hlines(1, 0, EPOCHS, colors=\"#CCCCCC\")\n",
    " ax1.hlines(0.75, 0, EPOCHS, colors=\"#CCCCCC\")\n",
    " ax1.hlines(0.5, 0, EPOCHS, colors=\"#CCCCCC\")\n",
    " ax1.hlines(0.25, 0, EPOCHS, colors=\"#CCCCCC\")\n",
    " ax1.axis([0,EPOCHS-1, 0, 1.2]) \n",
    " ax2.axis([0,EPOCHS-1, 0, 1.2]) \n",
    " ax1.set_title('model loss')  \n",
    " ax2.set_title('model accuracy')  \n",
    " ax2.set_ylabel('accuracy')  \n",
    " ax1.set_ylabel('loss')  \n",
    " ax1.set_xlabel('epoch')\n",
    " ax2.set_xlabel(\"epoch\")  \n",
    " ax1.legend([ 'train_loss', 'val_loss'], loc='best') \n",
    " ax2.legend([ 'train_accuracy', 'val_accuracy'], loc='best') \n"
   ]
  },
  {
   "cell_type": "markdown",
   "metadata": {
    "id": "B5JUYdbLBHXx"
   },
   "source": [
    "#Orientation model training"
   ]
  },
  {
   "cell_type": "code",
   "execution_count": null,
   "metadata": {
    "colab": {
     "base_uri": "https://localhost:8080/",
     "height": 1000
    },
    "executionInfo": {
     "elapsed": 1932,
     "status": "ok",
     "timestamp": 1613160768597,
     "user": {
      "displayName": "Orazi Filippo",
      "photoUrl": "https://lh3.googleusercontent.com/a-/AOh14Giqm5ggpMHZbFEsO6I8JLdOxxPOes47QwDRVNwn=s64",
      "userId": "10901058600466330130"
     },
     "user_tz": -60
    },
    "id": "DnP7KmIw8JrR",
    "outputId": "89b92d84-3bf9-4df0-d60e-4e5e7005a2d0"
   },
   "outputs": [],
   "source": [
    "# Preparing the dataset\n",
    "image_generator_orientation = image.ImageDataGenerator(rescale = 1. /255, validation_split = VALIDATION_SPLIT, preprocessing_function = None )\n",
    "train_data_orientation = image_generator_orientation.flow_from_directory(batch_size=BATCH_SIZE, directory = directory_orientation, subset = \"training\", shuffle = True, target_size = img_dim, class_mode = \"categorical\")\n",
    "validation_data_orientation = image_generator_orientation.flow_from_directory(batch_size=BATCH_SIZE, directory = directory_orientation, subset = \"validation\", shuffle = True, target_size = img_dim, class_mode = \"categorical\")\n",
    "tot_train = len(train_data_orientation.classes)\n",
    "tot_val = len(validation_data_orientation.classes)\n",
    "\n",
    "# Balancing the classes\n",
    "class_weights = class_weight.compute_class_weight(\n",
    "           'balanced',\n",
    "            np.unique(train_data_orientation.classes), \n",
    "            train_data_orientation.classes)\n",
    "weight = {i : class_weights[i] for i in range(3)}\n",
    "print(weight)\n",
    "\n",
    "\n",
    "# Building the model\n",
    "input_img = Input(shape=(*img_dim, 3), name=\"img\")\n",
    "model_orientation = get_ResidualBlockArchitecture(input_img, 0.2)\n",
    "model_orientation.summary()\n",
    "utils.plot_model(model_orientation, show_layer_names = False, show_shapes= False, )"
   ]
  },
  {
   "cell_type": "code",
   "execution_count": null,
   "metadata": {
    "colab": {
     "base_uri": "https://localhost:8080/"
    },
    "executionInfo": {
     "elapsed": 1132711,
     "status": "ok",
     "timestamp": 1613161902103,
     "user": {
      "displayName": "Orazi Filippo",
      "photoUrl": "https://lh3.googleusercontent.com/a-/AOh14Giqm5ggpMHZbFEsO6I8JLdOxxPOes47QwDRVNwn=s64",
      "userId": "10901058600466330130"
     },
     "user_tz": -60
    },
    "id": "PkajpWfuBEew",
    "outputId": "9d8f3ea3-6775-4424-f324-478e49248ee8"
   },
   "outputs": [],
   "source": [
    "history_orientation = model_orientation.fit(train_data_orientation, epochs=EPOCHS, class_weight=weight, steps_per_epoch=int(np.ceil(tot_train / BATCH_SIZE)), validation_data=validation_data_orientation, validation_steps=int(np.ceil(tot_val / float(BATCH_SIZE)))) "
   ]
  },
  {
   "cell_type": "code",
   "execution_count": null,
   "metadata": {
    "colab": {
     "background_save": true
    },
    "id": "5r_kUlRTBaML",
    "outputId": "7cf1f103-0152-4f62-abd7-1f33c8bc599d"
   },
   "outputs": [],
   "source": [
    " f,(ax1,ax2) = plt.subplots(1,2)\n",
    " f.set_figheight(7)\n",
    " f.set_figwidth(14)\n",
    "\n",
    " ax2.step(np.arange(EPOCHS), history_orientation.history['accuracy'],\"b\")  \n",
    " ax1.step(np.arange(EPOCHS), history_orientation.history['loss'],\"b\")  \n",
    " ax2.step(np.arange(EPOCHS), history_orientation.history['val_accuracy'], \"r\")  \n",
    " ax1.step(np.arange(EPOCHS), history_orientation.history['val_loss'], \"r\") \n",
    " ax2.hlines(1, 0, EPOCHS, colors=\"#CCCCCC\")\n",
    " ax2.hlines(0.75, 0, EPOCHS, colors=\"#CCCCCC\")\n",
    " ax2.hlines(0.5, 0, EPOCHS, colors=\"#CCCCCC\")\n",
    " ax2.hlines(0.25, 0, EPOCHS, colors=\"#CCCCCC\")\n",
    " ax1.hlines(1, 0, EPOCHS, colors=\"#CCCCCC\")\n",
    " ax1.hlines(0.75, 0, EPOCHS, colors=\"#CCCCCC\")\n",
    " ax1.hlines(0.5, 0, EPOCHS, colors=\"#CCCCCC\")\n",
    " ax1.hlines(0.25, 0, EPOCHS, colors=\"#CCCCCC\")\n",
    " ax1.axis([0,EPOCHS-1, 0, 1.2]) \n",
    " ax2.axis([0,EPOCHS-1, 0, 1.2]) \n",
    " ax1.set_title('model loss')  \n",
    " ax2.set_title('model accuracy')  \n",
    " ax2.set_ylabel('accuracy')  \n",
    " ax1.set_ylabel('loss')  \n",
    " ax1.set_xlabel('epoch')\n",
    " ax2.set_xlabel(\"epoch\")  \n",
    " ax1.legend([ 'train_loss', 'val_loss'], loc='best') \n",
    " ax2.legend([ 'train_accuracy', 'val_accuracy'], loc='best') \n"
   ]
  }
 ],
 "metadata": {
  "colab": {
   "authorship_tag": "ABX9TyNNJ3ps5wK/c/cvnfkvbmHG",
   "collapsed_sections": [],
   "mount_file_id": "1jOXI3O1BDW4zT-reJHWLGBdAF-VcaYVv",
   "name": "ResidualBlockArchitecture",
   "provenance": []
  },
  "kernelspec": {
   "display_name": "Python 3",
   "language": "python",
   "name": "python3"
  },
  "language_info": {
   "codemirror_mode": {
    "name": "ipython",
    "version": 3
   },
   "file_extension": ".py",
   "mimetype": "text/x-python",
   "name": "python",
   "nbconvert_exporter": "python",
   "pygments_lexer": "ipython3",
   "version": "3.6.0"
  }
 },
 "nbformat": 4,
 "nbformat_minor": 1
}
