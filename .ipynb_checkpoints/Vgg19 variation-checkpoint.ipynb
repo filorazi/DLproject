{
 "cells": [
  {
   "cell_type": "markdown",
   "metadata": {
    "id": "5UWvzgijBQLR"
   },
   "source": [
    "#Utilities"
   ]
  },
  {
   "cell_type": "code",
   "execution_count": null,
   "metadata": {
    "executionInfo": {
     "elapsed": 4246,
     "status": "ok",
     "timestamp": 1613207277484,
     "user": {
      "displayName": "Orazi Filippo",
      "photoUrl": "https://lh3.googleusercontent.com/a-/AOh14Giqm5ggpMHZbFEsO6I8JLdOxxPOes47QwDRVNwn=s64",
      "userId": "10901058600466330130"
     },
     "user_tz": -60
    },
    "id": "0YnJODzF4GjS"
   },
   "outputs": [],
   "source": [
    "import tensorflow as tf\n",
    "from tensorflow.keras import datasets, layers, models\n",
    "import matplotlib.pyplot as plt\n",
    "from keras.preprocessing import image\n",
    "import pandas as pd\n",
    "import numpy as np\n",
    "import cv2\n",
    "import imageio\n",
    "from PIL import Image\n",
    "from sklearn.utils import class_weight\n",
    "import numpy as np\n",
    "from keras import layers\n",
    "from keras import Input\n",
    "from keras import utils\n"
   ]
  },
  {
   "cell_type": "code",
   "execution_count": null,
   "metadata": {
    "executionInfo": {
     "elapsed": 4240,
     "status": "ok",
     "timestamp": 1613207277492,
     "user": {
      "displayName": "Orazi Filippo",
      "photoUrl": "https://lh3.googleusercontent.com/a-/AOh14Giqm5ggpMHZbFEsO6I8JLdOxxPOes47QwDRVNwn=s64",
      "userId": "10901058600466330130"
     },
     "user_tz": -60
    },
    "id": "zQQZT8wB4NV8"
   },
   "outputs": [],
   "source": [
    "BATCH_SIZE = 256\n",
    "EPOCHS = 13\n",
    "VALIDATION_SPLIT = 0.30\n",
    "directory_orientation = \"\"\n",
    "directory_light = \"\"\n",
    "img_dim = (64,64)\n"
   ]
  },
  {
   "cell_type": "code",
   "execution_count": null,
   "metadata": {
    "executionInfo": {
     "elapsed": 4237,
     "status": "ok",
     "timestamp": 1613207277494,
     "user": {
      "displayName": "Orazi Filippo",
      "photoUrl": "https://lh3.googleusercontent.com/a-/AOh14Giqm5ggpMHZbFEsO6I8JLdOxxPOes47QwDRVNwn=s64",
      "userId": "10901058600466330130"
     },
     "user_tz": -60
    },
    "id": "tIT2mgY0Rsok"
   },
   "outputs": [],
   "source": [
    "def get_vgg19_variation():\n",
    "    model = models.Sequential([\n",
    "                              layers.Conv2D(32, (3, 3), activation='relu', input_shape=(64, 64, 3)),\n",
    "                              layers.Conv2D(32, (3, 3), activation='relu', padding = \"same\"),\n",
    "                              layers.Conv2D(32, (3, 3), activation='relu', padding = \"same\"),\n",
    "                              layers.MaxPooling2D((2, 2)),\n",
    "                              \n",
    "                              layers.Conv2D(64, (3, 3), activation='relu', padding = \"same\"),\n",
    "                              layers.Conv2D(64, (3, 3), activation='relu', padding = \"same\"),\n",
    "                              layers.Conv2D(64, (3, 3), activation='relu', padding = \"same\"),\n",
    "                              layers.MaxPooling2D((2, 2)),         \n",
    "\n",
    "                              layers.Conv2D(128, (3, 3), activation='relu', padding = \"same\"),\n",
    "                              layers.Conv2D(128, (3, 3), activation='relu', padding = \"same\"),\n",
    "                              layers.Conv2D(128, (3, 3), activation='relu', padding = \"same\"),\n",
    "                              layers.MaxPooling2D((2, 2)),\n",
    "\n",
    "                              \n",
    "                              layers.Dropout(0.4),\n",
    "                              layers.Flatten(),\n",
    "                              layers.Dense(128, activation='relu'),\n",
    "                              layers.Dropout(0.2),\n",
    "                              layers.Dense(3, activation=\"softmax\") \n",
    "    ])\n",
    "\n",
    "    model.compile(optimizer='adam',\n",
    "                loss=tf.keras.losses.CategoricalCrossentropy(from_logits=True),\n",
    "                metrics=['accuracy'])\n",
    "    return model\n"
   ]
  },
  {
   "cell_type": "markdown",
   "metadata": {
    "id": "voEceMiVBMnv"
   },
   "source": [
    "#Light model training"
   ]
  },
  {
   "cell_type": "code",
   "execution_count": null,
   "metadata": {
    "colab": {
     "base_uri": "https://localhost:8080/"
    },
    "executionInfo": {
     "elapsed": 1766,
     "status": "ok",
     "timestamp": 1613148687842,
     "user": {
      "displayName": "Orazi Filippo",
      "photoUrl": "https://lh3.googleusercontent.com/a-/AOh14Giqm5ggpMHZbFEsO6I8JLdOxxPOes47QwDRVNwn=s64",
      "userId": "10901058600466330130"
     },
     "user_tz": -60
    },
    "id": "Qz3QkhM_5AGF",
    "outputId": "6573e574-7280-4b89-d43f-48cce2fdf198"
   },
   "outputs": [],
   "source": [
    "# Preparing the dataset\n",
    "image_generator_light = image.ImageDataGenerator(rescale = 1. /255, validation_split = VALIDATION_SPLIT, preprocessing_function = None )\n",
    "train_data_light = image_generator_light.flow_from_directory(batch_size=BATCH_SIZE, directory = directory_light, subset = \"training\", shuffle = True, target_size = img_dim, class_mode = \"categorical\")\n",
    "validation_data_light = image_generator_light.flow_from_directory(batch_size=BATCH_SIZE, directory = directory_light, subset = \"validation\", shuffle = True, target_size = img_dim, class_mode = \"categorical\")\n",
    "tot_train = len(train_data_light.classes)\n",
    "tot_val = len(validation_data_light.classes)\n",
    "\n",
    "# Balancing the classes\n",
    "class_weights = class_weight.compute_class_weight(\n",
    "           'balanced',\n",
    "            np.unique(train_data_light.classes), \n",
    "            train_data_light.classes)\n",
    "weight = {i : class_weights[i] for i in range(3)}\n",
    "print(weight)\n",
    "model_light = None\n",
    "model_light = get_vgg19_variation()\n",
    "\n",
    "# Building the model\n",
    "model_light.summary()\n",
    "#utils.plot_model(model_light, show_shapes=True)"
   ]
  },
  {
   "cell_type": "code",
   "execution_count": null,
   "metadata": {
    "colab": {
     "background_save": true,
     "base_uri": "https://localhost:8080/"
    },
    "id": "C1RKO8Pp6IEy",
    "outputId": "2c3f87ef-5e00-4e02-a6d6-79ef0d671fe7"
   },
   "outputs": [],
   "source": [
    "history_light = model_light.fit(train_data_light, epochs=EPOCHS, class_weight=weight, steps_per_epoch=int(np.ceil(tot_train / BATCH_SIZE)), validation_data=validation_data_light, validation_steps=int(np.ceil(tot_val / float(BATCH_SIZE)))) "
   ]
  },
  {
   "cell_type": "code",
   "execution_count": null,
   "metadata": {
    "colab": {
     "background_save": true
    },
    "id": "-maj_GDoHsF4",
    "outputId": "cbf8ee72-2444-416e-a6b6-bf447e41d33c"
   },
   "outputs": [],
   "source": [
    " f,(ax1,ax2) = plt.subplots(1,2)\n",
    " f.set_figheight(7)\n",
    " f.set_figwidth(14)\n",
    "\n",
    " ax2.step(np.arange(EPOCHS), history_light.history['accuracy'],\"b\")  \n",
    " ax1.step(np.arange(EPOCHS), history_light.history['loss'],\"b\")  \n",
    " ax2.step(np.arange(EPOCHS), history_light.history['val_accuracy'], \"r\")  \n",
    " ax1.step(np.arange(EPOCHS), history_light.history['val_loss'], \"r\") \n",
    " ax2.hlines(1, 0, EPOCHS, colors=\"#CCCCCC\")\n",
    " ax2.hlines(0.75, 0, EPOCHS, colors=\"#CCCCCC\")\n",
    " ax2.hlines(0.5, 0, EPOCHS, colors=\"#CCCCCC\")\n",
    " ax2.hlines(0.25, 0, EPOCHS, colors=\"#CCCCCC\")\n",
    " ax1.hlines(1, 0, EPOCHS, colors=\"#CCCCCC\")\n",
    " ax1.hlines(0.75, 0, EPOCHS, colors=\"#CCCCCC\")\n",
    " ax1.hlines(0.5, 0, EPOCHS, colors=\"#CCCCCC\")\n",
    " ax1.hlines(0.25, 0, EPOCHS, colors=\"#CCCCCC\")\n",
    " ax1.axis([0,EPOCHS-1, 0, 1.2]) \n",
    " ax2.axis([0,EPOCHS-1, 0, 1.2]) \n",
    " ax1.set_title('model loss')  \n",
    " ax2.set_title('model accuracy')  \n",
    " ax2.set_ylabel('accuracy')  \n",
    " ax1.set_ylabel('loss')  \n",
    " ax1.set_xlabel('epoch')\n",
    " ax2.set_xlabel(\"epoch\")  \n",
    " ax1.legend([ 'train_loss', 'val_loss'], loc='best') \n",
    " ax2.legend([ 'train_accuracy', 'val_accuracy'], loc='best') \n"
   ]
  },
  {
   "cell_type": "markdown",
   "metadata": {
    "id": "B5JUYdbLBHXx"
   },
   "source": [
    "#Orientation model training"
   ]
  },
  {
   "cell_type": "code",
   "execution_count": null,
   "metadata": {
    "colab": {
     "base_uri": "https://localhost:8080/",
     "height": 1000
    },
    "executionInfo": {
     "elapsed": 62234,
     "status": "ok",
     "timestamp": 1613207346568,
     "user": {
      "displayName": "Orazi Filippo",
      "photoUrl": "https://lh3.googleusercontent.com/a-/AOh14Giqm5ggpMHZbFEsO6I8JLdOxxPOes47QwDRVNwn=s64",
      "userId": "10901058600466330130"
     },
     "user_tz": -60
    },
    "id": "DnP7KmIw8JrR",
    "outputId": "43284905-c3c2-4f5a-e87d-3c20e7b32e85"
   },
   "outputs": [],
   "source": [
    "# Preparing the dataset\n",
    "image_generator_orientation = image.ImageDataGenerator(rescale = 1. /255, validation_split = VALIDATION_SPLIT, preprocessing_function = None )\n",
    "train_data_orientation = image_generator_orientation.flow_from_directory(batch_size=BATCH_SIZE, directory = directory_orientation, subset = \"training\", shuffle = True, target_size = img_dim, class_mode = \"categorical\")\n",
    "validation_data_orientation = image_generator_orientation.flow_from_directory(batch_size=BATCH_SIZE, directory = directory_orientation, subset = \"validation\", shuffle = True, target_size = img_dim, class_mode = \"categorical\")\n",
    "tot_train = len(train_data_orientation.classes)\n",
    "tot_val = len(validation_data_orientation.classes)\n",
    "\n",
    "# Balancing the classes\n",
    "class_weights = class_weight.compute_class_weight(\n",
    "           'balanced',\n",
    "            np.unique(train_data_orientation.classes), \n",
    "            train_data_orientation.classes)\n",
    "weight = {i : class_weights[i] for i in range(3)}\n",
    "print(weight)\n",
    "\n",
    "\n",
    "# Building the model\n",
    "input_img = Input(shape=(*img_dim, 3), name=\"img\")\n",
    "model_orientation = get_vgg19_variation()\n",
    "model_orientation.summary()\n",
    "utils.plot_model(model_orientation, show_layer_names= False)"
   ]
  },
  {
   "cell_type": "code",
   "execution_count": null,
   "metadata": {
    "colab": {
     "base_uri": "https://localhost:8080/"
    },
    "executionInfo": {
     "elapsed": 7945905,
     "status": "ok",
     "timestamp": 1613215292538,
     "user": {
      "displayName": "Orazi Filippo",
      "photoUrl": "https://lh3.googleusercontent.com/a-/AOh14Giqm5ggpMHZbFEsO6I8JLdOxxPOes47QwDRVNwn=s64",
      "userId": "10901058600466330130"
     },
     "user_tz": -60
    },
    "id": "PkajpWfuBEew",
    "outputId": "9ce25256-ec4b-4d93-8347-72c343c77743"
   },
   "outputs": [],
   "source": [
    "history_orientation = model_orientation.fit(train_data_orientation, epochs=EPOCHS, class_weight=weight, steps_per_epoch=int(np.ceil(tot_train / BATCH_SIZE)), validation_data=validation_data_orientation, validation_steps=int(np.ceil(tot_val / float(BATCH_SIZE)))) "
   ]
  },
  {
   "cell_type": "code",
   "execution_count": null,
   "metadata": {
    "colab": {
     "base_uri": "https://localhost:8080/",
     "height": 475
    },
    "executionInfo": {
     "elapsed": 1075,
     "status": "ok",
     "timestamp": 1613215735760,
     "user": {
      "displayName": "Orazi Filippo",
      "photoUrl": "https://lh3.googleusercontent.com/a-/AOh14Giqm5ggpMHZbFEsO6I8JLdOxxPOes47QwDRVNwn=s64",
      "userId": "10901058600466330130"
     },
     "user_tz": -60
    },
    "id": "5r_kUlRTBaML",
    "outputId": "0ba4b03c-5711-4bf8-cd2c-b15ecfa15dc2"
   },
   "outputs": [],
   "source": [
    " f,(ax1,ax2) = plt.subplots(1,2)\n",
    " f.set_figheight(7)\n",
    " f.set_figwidth(14)\n",
    "\n",
    " ax2.step(np.arange(EPOCHS), history_orientation.history['accuracy'],\"b\")  \n",
    " ax1.step(np.arange(EPOCHS), history_orientation.history['loss'],\"b\")  \n",
    " ax2.step(np.arange(EPOCHS), history_orientation.history['val_accuracy'], \"r\")  \n",
    " ax1.step(np.arange(EPOCHS), history_orientation.history['val_loss'], \"r\") \n",
    " ax2.hlines(1, 0, EPOCHS, colors=\"#CCCCCC\")\n",
    " ax2.hlines(0.75, 0, EPOCHS, colors=\"#CCCCCC\")\n",
    " ax2.hlines(0.5, 0, EPOCHS, colors=\"#CCCCCC\")\n",
    " ax2.hlines(0.25, 0, EPOCHS, colors=\"#CCCCCC\")\n",
    " ax1.hlines(1, 0, EPOCHS, colors=\"#CCCCCC\")\n",
    " ax1.hlines(0.75, 0, EPOCHS, colors=\"#CCCCCC\")\n",
    " ax1.hlines(0.5, 0, EPOCHS, colors=\"#CCCCCC\")\n",
    " ax1.hlines(0.25, 0, EPOCHS, colors=\"#CCCCCC\")\n",
    " ax1.axis([0,EPOCHS-1, 0, 1.2]) \n",
    " ax2.axis([0,EPOCHS-1, 0, 1.2]) \n",
    " ax1.set_title('model loss')  \n",
    " ax2.set_title('model accuracy')  \n",
    " ax2.set_ylabel('accuracy')  \n",
    " ax1.set_ylabel('loss')  \n",
    " ax1.set_xlabel('epoch')\n",
    " ax2.set_xlabel(\"epoch\")  \n",
    " ax1.legend([ 'train_loss', 'val_loss'], loc='best') \n",
    " ax2.legend([ 'train_accuracy', 'val_accuracy'], loc='best') \n"
   ]
  }
 ],
 "metadata": {
  "colab": {
   "authorship_tag": "ABX9TyORaFMkeDdT9zvlHTkZK6yb",
   "collapsed_sections": [],
   "mount_file_id": "1LePa-zRuKp-p6qsrD3n4wdUj1sE-xa-Q",
   "name": "Vgg19 variation",
   "provenance": []
  },
  "kernelspec": {
   "display_name": "Python 3",
   "language": "python",
   "name": "python3"
  },
  "language_info": {
   "codemirror_mode": {
    "name": "ipython",
    "version": 3
   },
   "file_extension": ".py",
   "mimetype": "text/x-python",
   "name": "python",
   "nbconvert_exporter": "python",
   "pygments_lexer": "ipython3",
   "version": "3.6.0"
  }
 },
 "nbformat": 4,
 "nbformat_minor": 1
}
