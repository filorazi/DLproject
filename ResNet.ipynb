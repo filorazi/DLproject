{
 "cells": [
  {
   "cell_type": "code",
   "execution_count": null,
   "metadata": {
    "executionInfo": {
     "elapsed": 3528,
     "status": "ok",
     "timestamp": 1613168213677,
     "user": {
      "displayName": "Orazi Filippo",
      "photoUrl": "https://lh3.googleusercontent.com/a-/AOh14Giqm5ggpMHZbFEsO6I8JLdOxxPOes47QwDRVNwn=s64",
      "userId": "10901058600466330130"
     },
     "user_tz": -60
    },
    "id": "qk-NngIP0SEk"
   },
   "outputs": [],
   "source": [
    "import tensorflow as tf\n",
    "from tensorflow.keras import datasets, layers, models\n",
    "import matplotlib.pyplot as plt\n",
    "from keras.preprocessing import image\n",
    "import pandas as pd\n",
    "import numpy as np\n",
    "import cv2\n",
    "import imageio\n",
    "from PIL import Image\n",
    "from sklearn.utils import class_weight\n",
    "import numpy as np\n",
    "from keras import layers\n",
    "from keras import Input\n",
    "from keras import utils\n",
    "from keras.applications import ResNet50"
   ]
  },
  {
   "cell_type": "code",
   "execution_count": null,
   "metadata": {
    "executionInfo": {
     "elapsed": 1820,
     "status": "ok",
     "timestamp": 1613168213687,
     "user": {
      "displayName": "Orazi Filippo",
      "photoUrl": "https://lh3.googleusercontent.com/a-/AOh14Giqm5ggpMHZbFEsO6I8JLdOxxPOes47QwDRVNwn=s64",
      "userId": "10901058600466330130"
     },
     "user_tz": -60
    },
    "id": "PjL523b_01ff"
   },
   "outputs": [],
   "source": [
    "BATCH_SIZE = 512\n",
    "EPOCHS = 15\n",
    "VALIDATION_SPLIT = 0.3\n",
    "directory_orientation = \"\"\n",
    "directory_light = \"\"\n",
    "img_dim = (64,64)\n"
   ]
  },
  {
   "cell_type": "code",
   "execution_count": null,
   "metadata": {
    "colab": {
     "base_uri": "https://localhost:8080/"
    },
    "executionInfo": {
     "elapsed": 62604,
     "status": "ok",
     "timestamp": 1613168276689,
     "user": {
      "displayName": "Orazi Filippo",
      "photoUrl": "https://lh3.googleusercontent.com/a-/AOh14Giqm5ggpMHZbFEsO6I8JLdOxxPOes47QwDRVNwn=s64",
      "userId": "10901058600466330130"
     },
     "user_tz": -60
    },
    "id": "IrxwXpHZ05ZU",
    "outputId": "e7938b56-72d1-414c-ac4d-049b8d7c280f"
   },
   "outputs": [],
   "source": [
    "# Preparing the dataset\n",
    "image_generator = image.ImageDataGenerator(rescale = 1. /255, validation_split = VALIDATION_SPLIT, preprocessing_function = None )\n",
    "train_data = image_generator.flow_from_directory(batch_size=BATCH_SIZE, directory = directory_light, subset = \"training\", shuffle = True, target_size = img_dim, class_mode = \"categorical\")\n",
    "validation_data = image_generator.flow_from_directory(batch_size=BATCH_SIZE, directory = directory_light, subset = \"validation\", shuffle = True, target_size = img_dim, class_mode = \"categorical\")\n",
    "tot_train = len(train_data.classes)\n",
    "tot_val = len(validation_data.classes)\n",
    "\n",
    "# Balancing the classes\n",
    "class_weights = class_weight.compute_class_weight(\n",
    "           'balanced',\n",
    "            np.unique(train_data.classes), \n",
    "            train_data.classes)\n",
    "weight = {i : class_weights[i] for i in range(3)}\n",
    "print(weight)\n",
    "\n",
    "\n",
    "# Building the model\n",
    "input_img = Input(shape=(*img_dim, 3), name=\"img\")\n",
    "model_light = ResNet50( include_top=True,\n",
    "                        weights=None,\n",
    "                        input_shape=(*img_dim,3),\n",
    "                        classes=3,\n",
    ")\n",
    "model_light.compile(optimizer='adam',\n",
    "                    loss=tf.keras.losses.CategoricalCrossentropy(from_logits=True),\n",
    "                    metrics=['accuracy'])\n",
    "\n",
    "#model_light.summary()\n",
    "#utils.plot_model(model_light, show_shapes=True)"
   ]
  },
  {
   "cell_type": "code",
   "execution_count": null,
   "metadata": {
    "colab": {
     "background_save": true,
     "base_uri": "https://localhost:8080/"
    },
    "executionInfo": {
     "elapsed": 7764540,
     "status": "ok",
     "timestamp": 1613149668657,
     "user": {
      "displayName": "Orazi Filippo",
      "photoUrl": "https://lh3.googleusercontent.com/a-/AOh14Giqm5ggpMHZbFEsO6I8JLdOxxPOes47QwDRVNwn=s64",
      "userId": "10901058600466330130"
     },
     "user_tz": -60
    },
    "id": "hKV9tf5e2aks",
    "outputId": "3b808bae-9535-4ba0-99f1-33a15ce3086e"
   },
   "outputs": [],
   "source": [
    "history = model_light.fit(train_data, epochs=EPOCHS, class_weight=weight, steps_per_epoch=int(np.ceil(tot_train / BATCH_SIZE)), validation_data=validation_data, validation_steps=int(np.ceil(tot_val / float(BATCH_SIZE)))) "
   ]
  },
  {
   "cell_type": "code",
   "execution_count": null,
   "metadata": {
    "colab": {
     "background_save": true,
     "base_uri": "https://localhost:8080/",
     "height": 475
    },
    "executionInfo": {
     "elapsed": 1273,
     "status": "ok",
     "timestamp": 1613149669915,
     "user": {
      "displayName": "Orazi Filippo",
      "photoUrl": "https://lh3.googleusercontent.com/a-/AOh14Giqm5ggpMHZbFEsO6I8JLdOxxPOes47QwDRVNwn=s64",
      "userId": "10901058600466330130"
     },
     "user_tz": -60
    },
    "id": "7pY66bDl20k2",
    "outputId": "f4c1b266-cb20-4787-85f0-bebe50240373"
   },
   "outputs": [],
   "source": [
    " f,(ax1,ax2) = plt.subplots(1,2)\n",
    " f.set_figheight(7)\n",
    " f.set_figwidth(14)\n",
    "\n",
    " ax2.step(np.arange(EPOCHS), history.history['accuracy'],\"b\")  \n",
    " ax1.step(np.arange(EPOCHS), history.history['loss'],\"b\")  \n",
    " ax2.step(np.arange(EPOCHS), history.history['val_accuracy'], \"r\")  \n",
    " ax1.step(np.arange(EPOCHS), history.history['val_loss'], \"r\") \n",
    " ax2.hlines(1, 0, EPOCHS, colors=\"#CCCCCC\")\n",
    " ax2.hlines(0.75, 0, EPOCHS, colors=\"#CCCCCC\")\n",
    " ax2.hlines(0.5, 0, EPOCHS, colors=\"#CCCCCC\")\n",
    " ax2.hlines(0.25, 0, EPOCHS, colors=\"#CCCCCC\")\n",
    " ax1.hlines(1, 0, EPOCHS, colors=\"#CCCCCC\")\n",
    " ax1.hlines(0.75, 0, EPOCHS, colors=\"#CCCCCC\")\n",
    " ax1.hlines(0.5, 0, EPOCHS, colors=\"#CCCCCC\")\n",
    " ax1.hlines(0.25, 0, EPOCHS, colors=\"#CCCCCC\")\n",
    " ax1.axis([0,EPOCHS-1, 0, 1.2]) \n",
    " ax2.axis([0,EPOCHS-1, 0, 1.2]) \n",
    " ax1.set_title('model loss')  \n",
    " ax2.set_title('model accuracy')  \n",
    " ax2.set_ylabel('accuracy')  \n",
    " ax1.set_ylabel('loss')  \n",
    " ax1.set_xlabel('epoch')\n",
    " ax2.set_xlabel(\"epoch\")  \n",
    " ax1.legend([ 'train_loss', 'val_loss'], loc='best') \n",
    " ax2.legend([ 'train_accuracy', 'val_accuracy'], loc='best') \n"
   ]
  },
  {
   "cell_type": "code",
   "execution_count": null,
   "metadata": {
    "colab": {
     "base_uri": "https://localhost:8080/"
    },
    "executionInfo": {
     "elapsed": 102636,
     "status": "ok",
     "timestamp": 1613168324969,
     "user": {
      "displayName": "Orazi Filippo",
      "photoUrl": "https://lh3.googleusercontent.com/a-/AOh14Giqm5ggpMHZbFEsO6I8JLdOxxPOes47QwDRVNwn=s64",
      "userId": "10901058600466330130"
     },
     "user_tz": -60
    },
    "id": "DnP7KmIw8JrR",
    "outputId": "5b774413-a225-47da-a6cc-99254c12ead2"
   },
   "outputs": [],
   "source": [
    "# Preparing the dataset\n",
    "image_generator_orientation = image.ImageDataGenerator(rescale = 1. /255, validation_split = VALIDATION_SPLIT, preprocessing_function = None )\n",
    "train_data_orientation = image_generator_orientation.flow_from_directory(batch_size=BATCH_SIZE, directory = directory_orientation, subset = \"training\", shuffle = True, target_size = img_dim, class_mode = \"categorical\")\n",
    "validation_data_orientation = image_generator_orientation.flow_from_directory(batch_size=BATCH_SIZE, directory = directory_orientation, subset = \"validation\", shuffle = True, target_size = img_dim, class_mode = \"categorical\")\n",
    "tot_train = len(train_data_orientation.classes)\n",
    "tot_val = len(validation_data_orientation.classes)\n",
    "\n",
    "# Balancing the classes\n",
    "class_weights = class_weight.compute_class_weight(\n",
    "           'balanced',\n",
    "            np.unique(train_data_orientation.classes), \n",
    "            train_data_orientation.classes)\n",
    "weight = {i : class_weights[i] for i in range(3)}\n",
    "print(weight)\n",
    "\n",
    "\n",
    "# Building the model\n",
    "input_img = Input(shape=(*img_dim, 3), name=\"img\")\n",
    "model_orientation = ResNet50( include_top=True,\n",
    "                        weights=None,\n",
    "                        input_shape=(*img_dim,3),\n",
    "                        classes=3,\n",
    ")\n",
    "model_orientation.compile(optimizer='adam',\n",
    "                    loss=tf.keras.losses.CategoricalCrossentropy(from_logits=True),\n",
    "                    metrics=['accuracy'])\n"
   ]
  },
  {
   "cell_type": "code",
   "execution_count": null,
   "metadata": {
    "colab": {
     "base_uri": "https://localhost:8080/"
    },
    "executionInfo": {
     "elapsed": 21742621,
     "status": "ok",
     "timestamp": 1613189966958,
     "user": {
      "displayName": "Orazi Filippo",
      "photoUrl": "https://lh3.googleusercontent.com/a-/AOh14Giqm5ggpMHZbFEsO6I8JLdOxxPOes47QwDRVNwn=s64",
      "userId": "10901058600466330130"
     },
     "user_tz": -60
    },
    "id": "lODbKlOweB8v",
    "outputId": "561ec073-61d8-49d9-fb4f-ce57a4f2c9e2"
   },
   "outputs": [],
   "source": [
    "history_orientation = model_orientation.fit(train_data_orientation, epochs=EPOCHS, class_weight=weight, steps_per_epoch=int(np.ceil(tot_train / BATCH_SIZE)), validation_data=validation_data_orientation, validation_steps=int(np.ceil(tot_val / float(BATCH_SIZE)))) "
   ]
  },
  {
   "cell_type": "code",
   "execution_count": null,
   "metadata": {
    "colab": {
     "base_uri": "https://localhost:8080/",
     "height": 475
    },
    "executionInfo": {
     "elapsed": 21740431,
     "status": "ok",
     "timestamp": 1613189967849,
     "user": {
      "displayName": "Orazi Filippo",
      "photoUrl": "https://lh3.googleusercontent.com/a-/AOh14Giqm5ggpMHZbFEsO6I8JLdOxxPOes47QwDRVNwn=s64",
      "userId": "10901058600466330130"
     },
     "user_tz": -60
    },
    "id": "fdKHDOLI8hpW",
    "outputId": "ab533180-191d-4675-ff32-16abd4f33697"
   },
   "outputs": [],
   "source": [
    " f,(ax1,ax2) = plt.subplots(1,2)\n",
    " f.set_figheight(7)\n",
    " f.set_figwidth(14)\n",
    "\n",
    " ax2.step(np.arange(EPOCHS), history_orientation.history['accuracy'],\"b\")  \n",
    " ax1.step(np.arange(EPOCHS), history_orientation.history['loss'],\"b\")  \n",
    " ax2.step(np.arange(EPOCHS), history_orientation.history['val_accuracy'], \"r\")  \n",
    " ax1.step(np.arange(EPOCHS), history_orientation.history['val_loss'], \"r\") \n",
    " ax2.hlines(1, 0, EPOCHS, colors=\"#CCCCCC\")\n",
    " ax2.hlines(0.75, 0, EPOCHS, colors=\"#CCCCCC\")\n",
    " ax2.hlines(0.5, 0, EPOCHS, colors=\"#CCCCCC\")\n",
    " ax2.hlines(0.25, 0, EPOCHS, colors=\"#CCCCCC\")\n",
    " ax1.hlines(1, 0, EPOCHS, colors=\"#CCCCCC\")\n",
    " ax1.hlines(0.75, 0, EPOCHS, colors=\"#CCCCCC\")\n",
    " ax1.hlines(0.5, 0, EPOCHS, colors=\"#CCCCCC\")\n",
    " ax1.hlines(0.25, 0, EPOCHS, colors=\"#CCCCCC\")\n",
    " ax1.axis([0,EPOCHS-1, 0, 1.2]) \n",
    " ax2.axis([0,EPOCHS-1, 0, 1.2]) \n",
    " ax1.set_title('model loss')  \n",
    " ax2.set_title('model accuracy')  \n",
    " ax2.set_ylabel('accuracy')  \n",
    " ax1.set_ylabel('loss')  \n",
    " ax1.set_xlabel('epoch')\n",
    " ax2.set_xlabel(\"epoch\")  \n",
    " ax1.legend([ 'train_loss', 'val_loss'], loc='best') \n",
    " ax2.legend([ 'train_accuracy', 'val_accuracy'], loc='best') \n"
   ]
  }
 ],
 "metadata": {
  "colab": {
   "authorship_tag": "ABX9TyOhVJH+sjcVuEU+iA7wM4DT",
   "mount_file_id": "1OCpN0DxTT4fEZVZqjoZV3kKzleSVnr_E",
   "name": "ResNet.ipynb",
   "provenance": []
  },
  "kernelspec": {
   "display_name": "Python 3",
   "language": "python",
   "name": "python3"
  },
  "language_info": {
   "codemirror_mode": {
    "name": "ipython",
    "version": 3
   },
   "file_extension": ".py",
   "mimetype": "text/x-python",
   "name": "python",
   "nbconvert_exporter": "python",
   "pygments_lexer": "ipython3",
   "version": "3.6.0"
  }
 },
 "nbformat": 4,
 "nbformat_minor": 1
}
